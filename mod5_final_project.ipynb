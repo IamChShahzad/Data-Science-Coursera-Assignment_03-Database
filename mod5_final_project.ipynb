{
 "cells": [
  {
   "cell_type": "markdown",
   "id": "5c65b16a-bfaa-4a92-a118-87d2d73ca349",
   "metadata": {},
   "source": [
    "<center>\n",
    "    <img src=\"https://cf-courses-data.s3.us.cloud-object-storage.appdomain.cloud/IBMDeveloperSkillsNetwork-DB0201EN-SkillsNetwork/labs/FinalModule_Coursera_V5/images/SN_web_lightmode.png\" width=\"300\" alt=\"cognitiveclass.ai logo\">\n",
    "</center>\n",
    "\n",
    "<h1 align=center><font size = 5>Assignment: Notebook for Graded Assessment</font></h1>\n"
   ]
  },
  {
   "cell_type": "markdown",
   "id": "b7b6c59f-fa91-4de4-a8b2-1a01acd2f0df",
   "metadata": {},
   "source": [
    "# Introduction\n",
    "\n",
    "Using this Python notebook you will:\n",
    "\n",
    "1.  Understand three Chicago datasets\n",
    "2.  Load the three datasets into three tables in a SQLIte database\n",
    "3.  Execute SQL queries to answer assignment questions\n"
   ]
  },
  {
   "cell_type": "markdown",
   "id": "f3abb8c3-f7d8-4c3b-869c-7dffba3928d1",
   "metadata": {},
   "source": [
    "## Understand the datasets\n",
    "\n",
    "To complete the assignment problems in this notebook you will be using three datasets that are available on the city of Chicago's Data Portal:\n",
    "\n",
    "1.  <a href=\"https://data.cityofchicago.org/Health-Human-Services/Census-Data-Selected-socioeconomic-indicators-in-C/kn9c-c2s2?utm_medium=Exinfluencer&utm_source=Exinfluencer&utm_content=000026UJ&utm_term=10006555&utm_id=NA-SkillsNetwork-Channel-SkillsNetworkCoursesIBMDeveloperSkillsNetworkDB0201ENSkillsNetwork20127838-2021-01-01\">Socioeconomic Indicators in Chicago</a>\n",
    "2.  <a href=\"https://data.cityofchicago.org/Education/Chicago-Public-Schools-Progress-Report-Cards-2011-/9xs2-f89t?utm_medium=Exinfluencer&utm_source=Exinfluencer&utm_content=000026UJ&utm_term=10006555&utm_id=NA-SkillsNetwork-Channel-SkillsNetworkCoursesIBMDeveloperSkillsNetworkDB0201ENSkillsNetwork20127838-2021-01-01\">Chicago Public Schools</a>\n",
    "3.  <a href=\"https://data.cityofchicago.org/Public-Safety/Crimes-2001-to-present/ijzp-q8t2?utm_medium=Exinfluencer&utm_source=Exinfluencer&utm_content=000026UJ&utm_term=10006555&utm_id=NA-SkillsNetwork-Channel-SkillsNetworkCoursesIBMDeveloperSkillsNetworkDB0201ENSkillsNetwork20127838-2021-01-01\">Chicago Crime Data</a>\n",
    "\n",
    "### 1. Socioeconomic Indicators in Chicago\n",
    "\n",
    "This dataset contains a selection of six socioeconomic indicators of public health significance and a “hardship index,” for each Chicago community area, for the years 2008 – 2012.\n",
    "\n",
    "A detailed description of this dataset and the original dataset can be obtained from the Chicago Data Portal at:\n",
    "\n",
    "[https://data.cityofchicago.org/Health-Human-Services/Census-Data-Selected-socioeconomic-indicators-in-C/kn9c-c2s2](https://data.cityofchicago.org/Health-Human-Services/Census-Data-Selected-socioeconomic-indicators-in-C/kn9c-c2s2?utm_medium=Exinfluencer&utm_source=Exinfluencer&utm_content=000026UJ&utm_term=10006555&utm_id=NA-SkillsNetwork-Channel-SkillsNetworkCoursesIBMDeveloperSkillsNetworkDB0201ENSkillsNetwork20127838-2021-01-01&cm_mmc=Email_Newsletter-\\_-Developer_Ed%2BTech-\\_-WW_WW-\\_-SkillsNetwork-Courses-IBMDeveloperSkillsNetwork-DB0201EN-SkillsNetwork-20127838&cm_mmca1=000026UJ&cm_mmca2=10006555&cm_mmca3=M12345678&cvosrc=email.Newsletter.M12345678&cvo_campaign=000026UJ)\n",
    "\n",
    "### 2. Chicago Public Schools\n",
    "\n",
    "This dataset shows all school level performance data used to create CPS School Report Cards for the 2011-2012 school year. This dataset is provided by the city of Chicago's Data Portal.\n",
    "\n",
    "A detailed description of this dataset and the original dataset can be obtained from the Chicago Data Portal at:\n",
    "\n",
    "[https://data.cityofchicago.org/Education/Chicago-Public-Schools-Progress-Report-Cards-2011-/9xs2-f89t](https://data.cityofchicago.org/Education/Chicago-Public-Schools-Progress-Report-Cards-2011-/9xs2-f89t?utm_medium=Exinfluencer&utm_source=Exinfluencer&utm_content=000026UJ&utm_term=10006555&utm_id=NA-SkillsNetwork-Channel-SkillsNetworkCoursesIBMDeveloperSkillsNetworkDB0201ENSkillsNetwork20127838-2021-01-01&cm_mmc=Email_Newsletter-\\_-Developer_Ed%2BTech-\\_-WW_WW-\\_-SkillsNetwork-Courses-IBMDeveloperSkillsNetwork-DB0201EN-SkillsNetwork-20127838&cm_mmca1=000026UJ&cm_mmca2=10006555&cm_mmca3=M12345678&cvosrc=email.Newsletter.M12345678&cvo_campaign=000026UJ)\n",
    "\n",
    "### 3. Chicago Crime Data\n",
    "\n",
    "This dataset reflects reported incidents of crime (with the exception of murders where data exists for each victim) that occurred in the City of Chicago from 2001 to present, minus the most recent seven days.\n",
    "\n",
    "A detailed description of this dataset and the original dataset can be obtained from the Chicago Data Portal at:\n",
    "\n",
    "[https://data.cityofchicago.org/Public-Safety/Crimes-2001-to-present/ijzp-q8t2](https://data.cityofchicago.org/Public-Safety/Crimes-2001-to-present/ijzp-q8t2?utm_medium=Exinfluencer&utm_source=Exinfluencer&utm_content=000026UJ&utm_term=10006555&utm_id=NA-SkillsNetwork-Channel-SkillsNetworkCoursesIBMDeveloperSkillsNetworkDB0201ENSkillsNetwork20127838-2021-01-01&cm_mmc=Email_Newsletter-\\_-Developer_Ed%2BTech-\\_-WW_WW-\\_-SkillsNetwork-Courses-IBMDeveloperSkillsNetwork-DB0201EN-SkillsNetwork-20127838&cm_mmca1=000026UJ&cm_mmca2=10006555&cm_mmca3=M12345678&cvosrc=email.Newsletter.M12345678&cvo_campaign=000026UJ)\n"
   ]
  },
  {
   "cell_type": "markdown",
   "id": "a395c5ba-e268-4eb8-92e2-f2f72e823324",
   "metadata": {},
   "source": [
    "### Download the datasets\n",
    "\n",
    "This assignment requires you to have these three tables populated with a subset of the whole datasets.\n",
    "\n",
    "In many cases the dataset to be analyzed is available as a .CSV (comma separated values) file, perhaps on the internet. \n",
    "\n",
    "Use the links below to read the data files using the Pandas library. \n",
    "\n",
    "* Chicago Census Data\n",
    "\n",
    "https://cf-courses-data.s3.us.cloud-object-storage.appdomain.cloud/IBMDeveloperSkillsNetwork-DB0201EN-SkillsNetwork/labs/FinalModule_Coursera_V5/data/ChicagoCensusData.csv?utm_medium=Exinfluencer&utm_source=Exinfluencer&utm_content=000026UJ&utm_term=10006555&utm_id=NA-SkillsNetwork-Channel-SkillsNetworkCoursesIBMDeveloperSkillsNetworkDB0201ENSkillsNetwork20127838-2021-01-01\n",
    "\n",
    "* Chicago Public Schools\n",
    "\n",
    "https://cf-courses-data.s3.us.cloud-object-storage.appdomain.cloud/IBMDeveloperSkillsNetwork-DB0201EN-SkillsNetwork/labs/FinalModule_Coursera_V5/data/ChicagoPublicSchools.csv?utm_medium=Exinfluencer&utm_source=Exinfluencer&utm_content=000026UJ&utm_term=10006555&utm_id=NA-SkillsNetwork-Channel-SkillsNetworkCoursesIBMDeveloperSkillsNetworkDB0201ENSkillsNetwork20127838-2021-01-01\n",
    "\n",
    "* Chicago Crime Data\n",
    "\n",
    "https://cf-courses-data.s3.us.cloud-object-storage.appdomain.cloud/IBMDeveloperSkillsNetwork-DB0201EN-SkillsNetwork/labs/FinalModule_Coursera_V5/data/ChicagoCrimeData.csv?utm_medium=Exinfluencer&utm_source=Exinfluencer&utm_content=000026UJ&utm_term=10006555&utm_id=NA-SkillsNetwork-Channel-SkillsNetworkCoursesIBMDeveloperSkillsNetworkDB0201ENSkillsNetwork20127838-2021-01-01\n",
    "\n",
    "**NOTE:** Ensure you use the datasets available on the links above instead of directly from the Chicago Data Portal. The versions linked here are subsets of the original datasets and have some of the column names modified to be more database friendly which will make it easier to complete this assignment.\n"
   ]
  },
  {
   "cell_type": "markdown",
   "id": "383a678e-cda4-49c4-ad1a-84536f3a08da",
   "metadata": {},
   "source": [
    "### Store the datasets in database tables\n",
    "\n",
    "To analyze the data using SQL, it first needs to be loaded into SQLite DB.\n",
    "We will create three tables in as under:\n",
    "\n",
    "1.  **CENSUS_DATA**\n",
    "2.  **CHICAGO_PUBLIC_SCHOOLS**\n",
    "3.  **CHICAGO_CRIME_DATA**\n"
   ]
  },
  {
   "cell_type": "markdown",
   "id": "8734f678-5887-4bff-9e52-0a78588f34f9",
   "metadata": {},
   "source": [
    "Load the `pandas` and `sqlite3` libraries and establish a connection to `FinalDB.db`\n"
   ]
  },
  {
   "cell_type": "code",
   "execution_count": 9,
   "id": "02dc16e2-f741-4821-81bd-fcaa6b42d510",
   "metadata": {},
   "outputs": [],
   "source": [
    "import pandas as pd \n",
    "import sqlite3 \n",
    "con = sqlite3.connect('FinalDB.db')\n",
    "cur = con.cursor"
   ]
  },
  {
   "cell_type": "markdown",
   "id": "a5a02f91-539c-45a2-a238-71bb903a9078",
   "metadata": {},
   "source": [
    "Load the SQL magic module\n"
   ]
  },
  {
   "cell_type": "code",
   "execution_count": null,
   "id": "0f644d25-30ac-4d3c-966c-85a7cc9fedbc",
   "metadata": {},
   "outputs": [
    {
     "name": "stdout",
     "output_type": "stream",
     "text": [
      "The sql extension is already loaded. To reload it, use:\n",
      "  %reload_ext sql\n",
      "The sql extension is already loaded. To reload it, use:\n",
      "  %reload_ext sql\n"
     ]
    }
   ],
   "source": [
    "%load_ext sql"
   ]
  },
  {
   "cell_type": "markdown",
   "id": "23b4d958-711d-43ea-aa26-02e80465fa9e",
   "metadata": {},
   "source": [
    "Use `Pandas` to load the data available in the links above to dataframes. Use these dataframes to load data on to the database `FinalDB.db` as required tables.\n"
   ]
  },
  {
   "cell_type": "code",
   "execution_count": 11,
   "id": "a54b4edf-9e14-44fc-b6f2-e71a0c5464d5",
   "metadata": {},
   "outputs": [
    {
     "data": {
      "text/plain": [
       "566"
      ]
     },
     "execution_count": 11,
     "metadata": {},
     "output_type": "execute_result"
    }
   ],
   "source": [
    "df = pd.read_csv('./ChicagoCensusData.csv')\n",
    "df.to_sql('Chicago_Census_Data', con, if_exists='replace', index=False, method=\"multi\")\n",
    "\n",
    "df = pd.read_csv('./ChicagoCrimeData.csv')\n",
    "df.to_sql('Chicago_Crime_Data', con, if_exists='replace', index=False, method=\"multi\")\n",
    "\n",
    "df = pd.read_csv('./ChicagoPublicSchools.csv')\n",
    "df.to_sql('Chicago_Public_Schools',con, if_exists='replace', index=False, method=\"multi\")"
   ]
  },
  {
   "cell_type": "markdown",
   "id": "cc21d645-1ae1-44c3-b0df-5f652be94c82",
   "metadata": {},
   "source": [
    "Establish a connection between SQL magic module and the database `FinalDB.db`\n"
   ]
  },
  {
   "cell_type": "code",
   "execution_count": 12,
   "id": "04790407-08e0-4b0d-95b8-4b0c4e787035",
   "metadata": {},
   "outputs": [
    {
     "name": "stdout",
     "output_type": "stream",
     "text": [
      "The sql extension is already loaded. To reload it, use:\n",
      "  %reload_ext sql\n"
     ]
    }
   ],
   "source": [
    "con = sqlite3.connect('FinalDB.db')\n",
    "cur = con.cursor\n",
    "%load_ext sql\n",
    "%sql sqlite:///FinalDB.db"
   ]
  },
  {
   "cell_type": "markdown",
   "id": "9e8e018d-b922-4ba0-a68f-a7b3219b2fe0",
   "metadata": {},
   "source": [
    "You can now proceed to the the following questions. Please note that a graded assignment will follow this lab and there will be a question on each of the problems stated below. It can be from the answer you received or the code you write for this problem. Therefore, please keep a note of both your codes as well as the response you generate.\n"
   ]
  },
  {
   "cell_type": "markdown",
   "id": "90055227-ce13-431d-b1fd-cb094f96884f",
   "metadata": {},
   "source": [
    "## Problems\n",
    "\n",
    "Now write and execute SQL queries to solve assignment problems\n",
    "\n",
    "### Problem 1\n",
    "\n",
    "##### Find the total number of crimes recorded in the CRIME table.\n"
   ]
  },
  {
   "cell_type": "code",
   "execution_count": 13,
   "id": "9a979048-ad92-4357-b421-1663f2985329",
   "metadata": {},
   "outputs": [
    {
     "name": "stdout",
     "output_type": "stream",
     "text": [
      " * sqlite:///FinalDB.db\n",
      "Done.\n"
     ]
    },
    {
     "data": {
      "text/html": [
       "<table>\n",
       "    <thead>\n",
       "        <tr>\n",
       "            <th>count_of_crimes</th>\n",
       "        </tr>\n",
       "    </thead>\n",
       "    <tbody>\n",
       "        <tr>\n",
       "            <td>533</td>\n",
       "        </tr>\n",
       "    </tbody>\n",
       "</table>"
      ],
      "text/plain": [
       "[(533,)]"
      ]
     },
     "execution_count": 13,
     "metadata": {},
     "output_type": "execute_result"
    }
   ],
   "source": [
    "%sql select count(*) as count_of_crimes from CHICAGO_CRIME_DATA"
   ]
  },
  {
   "cell_type": "markdown",
   "id": "55ae7785-b06b-4db5-aadf-91f93493faa7",
   "metadata": {},
   "source": [
    "### Problem 2\n",
    "\n",
    "##### List community area names and numbers with per capita income less than 11000.\n"
   ]
  },
  {
   "cell_type": "code",
   "execution_count": 14,
   "metadata": {},
   "outputs": [
    {
     "name": "stdout",
     "output_type": "stream",
     "text": [
      " * sqlite:///FinalDB.db\n",
      "Done.\n"
     ]
    },
    {
     "data": {
      "text/html": [
       "<table>\n",
       "    <thead>\n",
       "        <tr>\n",
       "            <th>COMMUNITY_AREA_NAME</th>\n",
       "        </tr>\n",
       "    </thead>\n",
       "    <tbody>\n",
       "        <tr>\n",
       "            <td>West Garfield Park</td>\n",
       "        </tr>\n",
       "        <tr>\n",
       "            <td>South Lawndale</td>\n",
       "        </tr>\n",
       "        <tr>\n",
       "            <td>Fuller Park</td>\n",
       "        </tr>\n",
       "        <tr>\n",
       "            <td>Riverdale</td>\n",
       "        </tr>\n",
       "    </tbody>\n",
       "</table>"
      ],
      "text/plain": [
       "[('West Garfield Park',),\n",
       " ('South Lawndale',),\n",
       " ('Fuller Park',),\n",
       " ('Riverdale',)]"
      ]
     },
     "execution_count": 14,
     "metadata": {},
     "output_type": "execute_result"
    }
   ],
   "source": [
    "%sql select COMMUNITY_AREA_NAME FROM Chicago_Census_Data WHERE PER_CAPITA_INCOME < 11000"
   ]
  },
  {
   "cell_type": "markdown",
   "id": "fff6c905-66ab-4567-ac29-4e898ec5e689",
   "metadata": {},
   "source": [
    "### Problem 3\n",
    "\n",
    "##### List all case numbers for crimes involving a child?\n"
   ]
  },
  {
   "cell_type": "code",
   "execution_count": 15,
   "metadata": {},
   "outputs": [
    {
     "name": "stdout",
     "output_type": "stream",
     "text": [
      " * sqlite:///FinalDB.db\n",
      "Done.\n"
     ]
    },
    {
     "data": {
      "text/html": [
       "<table>\n",
       "    <thead>\n",
       "        <tr>\n",
       "            <th>CASE_NUMBER</th>\n",
       "        </tr>\n",
       "    </thead>\n",
       "    <tbody>\n",
       "        <tr>\n",
       "            <td>HN567387</td>\n",
       "        </tr>\n",
       "        <tr>\n",
       "            <td>HR391350</td>\n",
       "        </tr>\n",
       "        <tr>\n",
       "            <td>HM768251</td>\n",
       "        </tr>\n",
       "        <tr>\n",
       "            <td>HT394616</td>\n",
       "        </tr>\n",
       "    </tbody>\n",
       "</table>"
      ],
      "text/plain": [
       "[('HN567387',), ('HR391350',), ('HM768251',), ('HT394616',)]"
      ]
     },
     "execution_count": 15,
     "metadata": {},
     "output_type": "execute_result"
    }
   ],
   "source": [
    "%sql select CASE_NUMBER from Chicago_Crime_Data WHERE PRIMARY_TYPE like '%CHILD%'"
   ]
  },
  {
   "cell_type": "markdown",
   "id": "4979dfec-5b39-458d-b040-e5da9823bfcf",
   "metadata": {},
   "source": [
    "### Problem 4\n",
    "\n",
    "##### List all kidnapping crimes involving a child?\n"
   ]
  },
  {
   "cell_type": "code",
   "execution_count": 16,
   "id": "8b151496-15ee-483e-b648-89bd1b08d8fe",
   "metadata": {},
   "outputs": [
    {
     "name": "stdout",
     "output_type": "stream",
     "text": [
      " * sqlite:///FinalDB.db\n",
      "Done.\n"
     ]
    },
    {
     "data": {
      "text/html": [
       "<table>\n",
       "    <thead>\n",
       "        <tr>\n",
       "            <th>PRIMARY_TYPE</th>\n",
       "            <th>CASE_NUMBER</th>\n",
       "            <th>DATE</th>\n",
       "            <th>DESCRIPTION</th>\n",
       "        </tr>\n",
       "    </thead>\n",
       "    <tbody>\n",
       "        <tr>\n",
       "            <td>KIDNAPPING</td>\n",
       "            <td>HN144152</td>\n",
       "            <td>2007-01-26</td>\n",
       "            <td>CHILD ABDUCTION/STRANGER</td>\n",
       "        </tr>\n",
       "    </tbody>\n",
       "</table>"
      ],
      "text/plain": [
       "[('KIDNAPPING', 'HN144152', '2007-01-26', 'CHILD ABDUCTION/STRANGER')]"
      ]
     },
     "execution_count": 16,
     "metadata": {},
     "output_type": "execute_result"
    }
   ],
   "source": [
    "%sql select PRIMARY_TYPE, CASE_NUMBER, DATE, DESCRIPTION FROM Chicago_Crime_Data where PRIMARY_TYPE = 'KIDNAPPING'"
   ]
  },
  {
   "cell_type": "markdown",
   "id": "6f45266f-b2f7-4f1a-a63b-a6ac72b9c331",
   "metadata": {},
   "source": [
    "### Problem 5\n",
    "\n",
    "##### List the kind of crimes that were recorded at schools. (No repetitions)\n"
   ]
  },
  {
   "cell_type": "code",
   "execution_count": 17,
   "id": "b78d7595-2fcf-406f-a2d6-0e616fc1b8a9",
   "metadata": {},
   "outputs": [
    {
     "name": "stdout",
     "output_type": "stream",
     "text": [
      " * sqlite:///FinalDB.db\n",
      "Done.\n"
     ]
    },
    {
     "data": {
      "text/html": [
       "<table>\n",
       "    <thead>\n",
       "        <tr>\n",
       "            <th>PRIMARY_TYPE</th>\n",
       "            <th>LOCATION_DESCRIPTION</th>\n",
       "        </tr>\n",
       "    </thead>\n",
       "    <tbody>\n",
       "        <tr>\n",
       "            <td>BATTERY</td>\n",
       "            <td>SCHOOL, PUBLIC, GROUNDS</td>\n",
       "        </tr>\n",
       "        <tr>\n",
       "            <td>BATTERY</td>\n",
       "            <td>SCHOOL, PUBLIC, BUILDING</td>\n",
       "        </tr>\n",
       "        <tr>\n",
       "            <td>CRIMINAL DAMAGE</td>\n",
       "            <td>SCHOOL, PUBLIC, GROUNDS</td>\n",
       "        </tr>\n",
       "        <tr>\n",
       "            <td>NARCOTICS</td>\n",
       "            <td>SCHOOL, PUBLIC, GROUNDS</td>\n",
       "        </tr>\n",
       "        <tr>\n",
       "            <td>NARCOTICS</td>\n",
       "            <td>SCHOOL, PUBLIC, BUILDING</td>\n",
       "        </tr>\n",
       "        <tr>\n",
       "            <td>ASSAULT</td>\n",
       "            <td>SCHOOL, PUBLIC, GROUNDS</td>\n",
       "        </tr>\n",
       "        <tr>\n",
       "            <td>CRIMINAL TRESPASS</td>\n",
       "            <td>SCHOOL, PUBLIC, GROUNDS</td>\n",
       "        </tr>\n",
       "        <tr>\n",
       "            <td>PUBLIC PEACE VIOLATION</td>\n",
       "            <td>SCHOOL, PRIVATE, BUILDING</td>\n",
       "        </tr>\n",
       "        <tr>\n",
       "            <td>PUBLIC PEACE VIOLATION</td>\n",
       "            <td>SCHOOL, PUBLIC, BUILDING</td>\n",
       "        </tr>\n",
       "    </tbody>\n",
       "</table>"
      ],
      "text/plain": [
       "[('BATTERY', 'SCHOOL, PUBLIC, GROUNDS'),\n",
       " ('BATTERY', 'SCHOOL, PUBLIC, BUILDING'),\n",
       " ('CRIMINAL DAMAGE', 'SCHOOL, PUBLIC, GROUNDS'),\n",
       " ('NARCOTICS', 'SCHOOL, PUBLIC, GROUNDS'),\n",
       " ('NARCOTICS', 'SCHOOL, PUBLIC, BUILDING'),\n",
       " ('ASSAULT', 'SCHOOL, PUBLIC, GROUNDS'),\n",
       " ('CRIMINAL TRESPASS', 'SCHOOL, PUBLIC, GROUNDS'),\n",
       " ('PUBLIC PEACE VIOLATION', 'SCHOOL, PRIVATE, BUILDING'),\n",
       " ('PUBLIC PEACE VIOLATION', 'SCHOOL, PUBLIC, BUILDING')]"
      ]
     },
     "execution_count": 17,
     "metadata": {},
     "output_type": "execute_result"
    }
   ],
   "source": [
    "%sql SELECT DISTINCT(PRIMARY_TYPE), LOCATION_DESCRIPTION FROM Chicago_Crime_Data where LOCATION_DESCRIPTION LIKE '%School%' "
   ]
  },
  {
   "cell_type": "markdown",
   "id": "8a7e88d5-ffb0-4847-9783-025262c50258",
   "metadata": {},
   "source": [
    "### Problem 6\n",
    "\n",
    "##### List the type of schools along with the average safety score for each type.\n"
   ]
  },
  {
   "cell_type": "code",
   "execution_count": 18,
   "id": "258dab3d-1cb9-4311-bb5a-6aa39dfea6b5",
   "metadata": {},
   "outputs": [
    {
     "name": "stdout",
     "output_type": "stream",
     "text": [
      " * sqlite:///FinalDB.db\n",
      "Done.\n"
     ]
    },
    {
     "data": {
      "text/html": [
       "<table>\n",
       "    <thead>\n",
       "        <tr>\n",
       "            <th>Elementary, Middle, or High School</th>\n",
       "            <th>AVG(SAFETY_SCORE)</th>\n",
       "            <th>SAFETY_SCORE</th>\n",
       "        </tr>\n",
       "    </thead>\n",
       "    <tbody>\n",
       "        <tr>\n",
       "            <td>ES</td>\n",
       "            <td>49.52038369304557</td>\n",
       "            <td>99.0</td>\n",
       "        </tr>\n",
       "        <tr>\n",
       "            <td>HS</td>\n",
       "            <td>49.62352941176471</td>\n",
       "            <td>49.0</td>\n",
       "        </tr>\n",
       "        <tr>\n",
       "            <td>MS</td>\n",
       "            <td>48.0</td>\n",
       "            <td>66.0</td>\n",
       "        </tr>\n",
       "    </tbody>\n",
       "</table>"
      ],
      "text/plain": [
       "[('ES', 49.52038369304557, 99.0),\n",
       " ('HS', 49.62352941176471, 49.0),\n",
       " ('MS', 48.0, 66.0)]"
      ]
     },
     "execution_count": 18,
     "metadata": {},
     "output_type": "execute_result"
    }
   ],
   "source": [
    "%%sql select [\"Elementary, Middle, or High School\"], AVG(SAFETY_SCORE), \n",
    "SAFETY_SCORE FROM Chicago_Public_Schools Group By [\"Elementary, Middle, or High School\"]"
   ]
  },
  {
   "cell_type": "markdown",
   "id": "78350381-49ef-4ed6-b3c7-c6f734711f26",
   "metadata": {},
   "source": [
    "### Problem 7\n",
    "\n",
    "##### List 5 community areas with highest % of households below poverty line\n"
   ]
  },
  {
   "cell_type": "code",
   "execution_count": 19,
   "id": "baf5c170-ab51-4975-9c44-a14df50da755",
   "metadata": {},
   "outputs": [
    {
     "name": "stdout",
     "output_type": "stream",
     "text": [
      " * sqlite:///FinalDB.db\n",
      "Done.\n"
     ]
    },
    {
     "data": {
      "text/html": [
       "<table>\n",
       "    <thead>\n",
       "        <tr>\n",
       "            <th>COMMUNITY_AREA_NAME</th>\n",
       "            <th>PERCENT_HOUSEHOLDS_BELOW_POVERTY</th>\n",
       "        </tr>\n",
       "    </thead>\n",
       "    <tbody>\n",
       "        <tr>\n",
       "            <td>Riverdale</td>\n",
       "            <td>56.5</td>\n",
       "        </tr>\n",
       "        <tr>\n",
       "            <td>Fuller Park</td>\n",
       "            <td>51.2</td>\n",
       "        </tr>\n",
       "        <tr>\n",
       "            <td>Englewood</td>\n",
       "            <td>46.6</td>\n",
       "        </tr>\n",
       "        <tr>\n",
       "            <td>North Lawndale</td>\n",
       "            <td>43.1</td>\n",
       "        </tr>\n",
       "        <tr>\n",
       "            <td>East Garfield Park</td>\n",
       "            <td>42.4</td>\n",
       "        </tr>\n",
       "    </tbody>\n",
       "</table>"
      ],
      "text/plain": [
       "[('Riverdale', 56.5),\n",
       " ('Fuller Park', 51.2),\n",
       " ('Englewood', 46.6),\n",
       " ('North Lawndale', 43.1),\n",
       " ('East Garfield Park', 42.4)]"
      ]
     },
     "execution_count": 19,
     "metadata": {},
     "output_type": "execute_result"
    }
   ],
   "source": [
    "%%sql select COMMUNITY_AREA_NAME , PERCENT_HOUSEHOLDS_BELOW_POVERTY FROM Chicago_Census_Data\n",
    "ORDER BY PERCENT_HOUSEHOLDS_BELOW_POVERTY DESC LIMIT 5"
   ]
  },
  {
   "cell_type": "markdown",
   "id": "77552fed-9d3e-49a3-b597-4cb27855d478",
   "metadata": {},
   "source": [
    "### Problem 8\n",
    "\n",
    "##### Which community area is most crime prone? Display the coumminty area number only.\n"
   ]
  },
  {
   "cell_type": "code",
   "execution_count": 20,
   "metadata": {},
   "outputs": [
    {
     "name": "stdout",
     "output_type": "stream",
     "text": [
      " * sqlite:///FinalDB.db\n",
      "Done.\n"
     ]
    },
    {
     "data": {
      "text/html": [
       "<table>\n",
       "    <thead>\n",
       "        <tr>\n",
       "            <th>COMMUNITY_AREA_NUMBER</th>\n",
       "            <th>HARDSHIP_INDEX</th>\n",
       "        </tr>\n",
       "    </thead>\n",
       "    <tbody>\n",
       "        <tr>\n",
       "            <td>54.0</td>\n",
       "            <td>98.0</td>\n",
       "        </tr>\n",
       "        <tr>\n",
       "            <td>37.0</td>\n",
       "            <td>97.0</td>\n",
       "        </tr>\n",
       "        <tr>\n",
       "            <td>30.0</td>\n",
       "            <td>96.0</td>\n",
       "        </tr>\n",
       "        <tr>\n",
       "            <td>68.0</td>\n",
       "            <td>94.0</td>\n",
       "        </tr>\n",
       "        <tr>\n",
       "            <td>63.0</td>\n",
       "            <td>93.0</td>\n",
       "        </tr>\n",
       "    </tbody>\n",
       "</table>"
      ],
      "text/plain": [
       "[(54.0, 98.0), (37.0, 97.0), (30.0, 96.0), (68.0, 94.0), (63.0, 93.0)]"
      ]
     },
     "execution_count": 20,
     "metadata": {},
     "output_type": "execute_result"
    }
   ],
   "source": [
    "%sql select COMMUNITY_AREA_NUMBER, HARDSHIP_INDEX from Chicago_Census_Data order by HARDSHIP_INDEX DESC LIMIT 5"
   ]
  },
  {
   "cell_type": "markdown",
   "id": "bc9bfaf6-a968-4af4-ab6e-27374c527736",
   "metadata": {},
   "source": [
    "\n",
    "Double-click **here** for a hint\n",
    "\n",
    "<!--\n",
    "Query for the 'community area number' that has most number of incidents\n",
    "-->\n"
   ]
  },
  {
   "cell_type": "markdown",
   "id": "fb7016ce-6ea1-4a62-b32d-e011c0e38980",
   "metadata": {},
   "source": [
    "### Problem 9\n",
    "\n",
    "##### Use a sub-query to find the name of the community area with highest hardship index\n"
   ]
  },
  {
   "cell_type": "code",
   "execution_count": 21,
   "id": "b6eb87bb-f068-4155-ad5a-52a4380b0b21",
   "metadata": {},
   "outputs": [
    {
     "name": "stdout",
     "output_type": "stream",
     "text": [
      " * sqlite:///FinalDB.db\n",
      "Done.\n"
     ]
    },
    {
     "data": {
      "text/html": [
       "<table>\n",
       "    <thead>\n",
       "        <tr>\n",
       "            <th>COMMUNITY_AREA_NAME</th>\n",
       "            <th>(select HARDSHIP_INDEX FROM Chicago_Census_Data order by HARDSHIP_INDEX DESC)</th>\n",
       "        </tr>\n",
       "    </thead>\n",
       "    <tbody>\n",
       "        <tr>\n",
       "            <td>Rogers Park</td>\n",
       "            <td>98.0</td>\n",
       "        </tr>\n",
       "        <tr>\n",
       "            <td>West Ridge</td>\n",
       "            <td>98.0</td>\n",
       "        </tr>\n",
       "        <tr>\n",
       "            <td>Uptown</td>\n",
       "            <td>98.0</td>\n",
       "        </tr>\n",
       "        <tr>\n",
       "            <td>Lincoln Square</td>\n",
       "            <td>98.0</td>\n",
       "        </tr>\n",
       "        <tr>\n",
       "            <td>North Center</td>\n",
       "            <td>98.0</td>\n",
       "        </tr>\n",
       "        <tr>\n",
       "            <td>Lake View</td>\n",
       "            <td>98.0</td>\n",
       "        </tr>\n",
       "        <tr>\n",
       "            <td>Lincoln Park</td>\n",
       "            <td>98.0</td>\n",
       "        </tr>\n",
       "        <tr>\n",
       "            <td>Near North Side</td>\n",
       "            <td>98.0</td>\n",
       "        </tr>\n",
       "        <tr>\n",
       "            <td>Edison Park</td>\n",
       "            <td>98.0</td>\n",
       "        </tr>\n",
       "        <tr>\n",
       "            <td>Norwood Park</td>\n",
       "            <td>98.0</td>\n",
       "        </tr>\n",
       "        <tr>\n",
       "            <td>Jefferson Park</td>\n",
       "            <td>98.0</td>\n",
       "        </tr>\n",
       "        <tr>\n",
       "            <td>Forest Glen</td>\n",
       "            <td>98.0</td>\n",
       "        </tr>\n",
       "        <tr>\n",
       "            <td>North Park</td>\n",
       "            <td>98.0</td>\n",
       "        </tr>\n",
       "        <tr>\n",
       "            <td>Albany Park</td>\n",
       "            <td>98.0</td>\n",
       "        </tr>\n",
       "        <tr>\n",
       "            <td>Portage Park</td>\n",
       "            <td>98.0</td>\n",
       "        </tr>\n",
       "        <tr>\n",
       "            <td>Irving Park</td>\n",
       "            <td>98.0</td>\n",
       "        </tr>\n",
       "        <tr>\n",
       "            <td>Dunning</td>\n",
       "            <td>98.0</td>\n",
       "        </tr>\n",
       "        <tr>\n",
       "            <td>Montclaire</td>\n",
       "            <td>98.0</td>\n",
       "        </tr>\n",
       "        <tr>\n",
       "            <td>Belmont Cragin</td>\n",
       "            <td>98.0</td>\n",
       "        </tr>\n",
       "        <tr>\n",
       "            <td>Hermosa</td>\n",
       "            <td>98.0</td>\n",
       "        </tr>\n",
       "        <tr>\n",
       "            <td>Avondale</td>\n",
       "            <td>98.0</td>\n",
       "        </tr>\n",
       "        <tr>\n",
       "            <td>Logan Square</td>\n",
       "            <td>98.0</td>\n",
       "        </tr>\n",
       "        <tr>\n",
       "            <td>Humboldt park</td>\n",
       "            <td>98.0</td>\n",
       "        </tr>\n",
       "        <tr>\n",
       "            <td>West Town</td>\n",
       "            <td>98.0</td>\n",
       "        </tr>\n",
       "        <tr>\n",
       "            <td>Austin</td>\n",
       "            <td>98.0</td>\n",
       "        </tr>\n",
       "        <tr>\n",
       "            <td>West Garfield Park</td>\n",
       "            <td>98.0</td>\n",
       "        </tr>\n",
       "        <tr>\n",
       "            <td>East Garfield Park</td>\n",
       "            <td>98.0</td>\n",
       "        </tr>\n",
       "        <tr>\n",
       "            <td>Near West Side</td>\n",
       "            <td>98.0</td>\n",
       "        </tr>\n",
       "        <tr>\n",
       "            <td>North Lawndale</td>\n",
       "            <td>98.0</td>\n",
       "        </tr>\n",
       "        <tr>\n",
       "            <td>South Lawndale</td>\n",
       "            <td>98.0</td>\n",
       "        </tr>\n",
       "        <tr>\n",
       "            <td>Lower West Side</td>\n",
       "            <td>98.0</td>\n",
       "        </tr>\n",
       "        <tr>\n",
       "            <td>Loop</td>\n",
       "            <td>98.0</td>\n",
       "        </tr>\n",
       "        <tr>\n",
       "            <td>Near South Side</td>\n",
       "            <td>98.0</td>\n",
       "        </tr>\n",
       "        <tr>\n",
       "            <td>Armour Square</td>\n",
       "            <td>98.0</td>\n",
       "        </tr>\n",
       "        <tr>\n",
       "            <td>Douglas</td>\n",
       "            <td>98.0</td>\n",
       "        </tr>\n",
       "        <tr>\n",
       "            <td>Oakland</td>\n",
       "            <td>98.0</td>\n",
       "        </tr>\n",
       "        <tr>\n",
       "            <td>Fuller Park</td>\n",
       "            <td>98.0</td>\n",
       "        </tr>\n",
       "        <tr>\n",
       "            <td>Grand Boulevard</td>\n",
       "            <td>98.0</td>\n",
       "        </tr>\n",
       "        <tr>\n",
       "            <td>Kenwood</td>\n",
       "            <td>98.0</td>\n",
       "        </tr>\n",
       "        <tr>\n",
       "            <td>Washington Park</td>\n",
       "            <td>98.0</td>\n",
       "        </tr>\n",
       "        <tr>\n",
       "            <td>Hyde Park</td>\n",
       "            <td>98.0</td>\n",
       "        </tr>\n",
       "        <tr>\n",
       "            <td>Woodlawn</td>\n",
       "            <td>98.0</td>\n",
       "        </tr>\n",
       "        <tr>\n",
       "            <td>South Shore</td>\n",
       "            <td>98.0</td>\n",
       "        </tr>\n",
       "        <tr>\n",
       "            <td>Chatham</td>\n",
       "            <td>98.0</td>\n",
       "        </tr>\n",
       "        <tr>\n",
       "            <td>Avalon Park</td>\n",
       "            <td>98.0</td>\n",
       "        </tr>\n",
       "        <tr>\n",
       "            <td>South Chicago</td>\n",
       "            <td>98.0</td>\n",
       "        </tr>\n",
       "        <tr>\n",
       "            <td>Burnside</td>\n",
       "            <td>98.0</td>\n",
       "        </tr>\n",
       "        <tr>\n",
       "            <td>Calumet Heights</td>\n",
       "            <td>98.0</td>\n",
       "        </tr>\n",
       "        <tr>\n",
       "            <td>Roseland</td>\n",
       "            <td>98.0</td>\n",
       "        </tr>\n",
       "        <tr>\n",
       "            <td>Pullman</td>\n",
       "            <td>98.0</td>\n",
       "        </tr>\n",
       "        <tr>\n",
       "            <td>South Deering</td>\n",
       "            <td>98.0</td>\n",
       "        </tr>\n",
       "        <tr>\n",
       "            <td>East Side</td>\n",
       "            <td>98.0</td>\n",
       "        </tr>\n",
       "        <tr>\n",
       "            <td>West Pullman</td>\n",
       "            <td>98.0</td>\n",
       "        </tr>\n",
       "        <tr>\n",
       "            <td>Riverdale</td>\n",
       "            <td>98.0</td>\n",
       "        </tr>\n",
       "        <tr>\n",
       "            <td>Hegewisch</td>\n",
       "            <td>98.0</td>\n",
       "        </tr>\n",
       "        <tr>\n",
       "            <td>Garfield Ridge</td>\n",
       "            <td>98.0</td>\n",
       "        </tr>\n",
       "        <tr>\n",
       "            <td>Archer Heights</td>\n",
       "            <td>98.0</td>\n",
       "        </tr>\n",
       "        <tr>\n",
       "            <td>Brighton Park</td>\n",
       "            <td>98.0</td>\n",
       "        </tr>\n",
       "        <tr>\n",
       "            <td>McKinley Park</td>\n",
       "            <td>98.0</td>\n",
       "        </tr>\n",
       "        <tr>\n",
       "            <td>Bridgeport</td>\n",
       "            <td>98.0</td>\n",
       "        </tr>\n",
       "        <tr>\n",
       "            <td>New City</td>\n",
       "            <td>98.0</td>\n",
       "        </tr>\n",
       "        <tr>\n",
       "            <td>West Elsdon</td>\n",
       "            <td>98.0</td>\n",
       "        </tr>\n",
       "        <tr>\n",
       "            <td>Gage Park</td>\n",
       "            <td>98.0</td>\n",
       "        </tr>\n",
       "        <tr>\n",
       "            <td>Clearing</td>\n",
       "            <td>98.0</td>\n",
       "        </tr>\n",
       "        <tr>\n",
       "            <td>West Lawn</td>\n",
       "            <td>98.0</td>\n",
       "        </tr>\n",
       "        <tr>\n",
       "            <td>Chicago Lawn</td>\n",
       "            <td>98.0</td>\n",
       "        </tr>\n",
       "        <tr>\n",
       "            <td>West Englewood</td>\n",
       "            <td>98.0</td>\n",
       "        </tr>\n",
       "        <tr>\n",
       "            <td>Englewood</td>\n",
       "            <td>98.0</td>\n",
       "        </tr>\n",
       "        <tr>\n",
       "            <td>Greater Grand Crossing</td>\n",
       "            <td>98.0</td>\n",
       "        </tr>\n",
       "        <tr>\n",
       "            <td>Ashburn</td>\n",
       "            <td>98.0</td>\n",
       "        </tr>\n",
       "        <tr>\n",
       "            <td>Auburn Gresham</td>\n",
       "            <td>98.0</td>\n",
       "        </tr>\n",
       "        <tr>\n",
       "            <td>Beverly</td>\n",
       "            <td>98.0</td>\n",
       "        </tr>\n",
       "        <tr>\n",
       "            <td>Washington Height</td>\n",
       "            <td>98.0</td>\n",
       "        </tr>\n",
       "        <tr>\n",
       "            <td>Mount Greenwood</td>\n",
       "            <td>98.0</td>\n",
       "        </tr>\n",
       "        <tr>\n",
       "            <td>Morgan Park</td>\n",
       "            <td>98.0</td>\n",
       "        </tr>\n",
       "        <tr>\n",
       "            <td>O&#x27;Hare</td>\n",
       "            <td>98.0</td>\n",
       "        </tr>\n",
       "        <tr>\n",
       "            <td>Edgewater</td>\n",
       "            <td>98.0</td>\n",
       "        </tr>\n",
       "        <tr>\n",
       "            <td>CHICAGO</td>\n",
       "            <td>98.0</td>\n",
       "        </tr>\n",
       "    </tbody>\n",
       "</table>"
      ],
      "text/plain": [
       "[('Rogers Park', 98.0),\n",
       " ('West Ridge', 98.0),\n",
       " ('Uptown', 98.0),\n",
       " ('Lincoln Square', 98.0),\n",
       " ('North Center', 98.0),\n",
       " ('Lake View', 98.0),\n",
       " ('Lincoln Park', 98.0),\n",
       " ('Near North Side', 98.0),\n",
       " ('Edison Park', 98.0),\n",
       " ('Norwood Park', 98.0),\n",
       " ('Jefferson Park', 98.0),\n",
       " ('Forest Glen', 98.0),\n",
       " ('North Park', 98.0),\n",
       " ('Albany Park', 98.0),\n",
       " ('Portage Park', 98.0),\n",
       " ('Irving Park', 98.0),\n",
       " ('Dunning', 98.0),\n",
       " ('Montclaire', 98.0),\n",
       " ('Belmont Cragin', 98.0),\n",
       " ('Hermosa', 98.0),\n",
       " ('Avondale', 98.0),\n",
       " ('Logan Square', 98.0),\n",
       " ('Humboldt park', 98.0),\n",
       " ('West Town', 98.0),\n",
       " ('Austin', 98.0),\n",
       " ('West Garfield Park', 98.0),\n",
       " ('East Garfield Park', 98.0),\n",
       " ('Near West Side', 98.0),\n",
       " ('North Lawndale', 98.0),\n",
       " ('South Lawndale', 98.0),\n",
       " ('Lower West Side', 98.0),\n",
       " ('Loop', 98.0),\n",
       " ('Near South Side', 98.0),\n",
       " ('Armour Square', 98.0),\n",
       " ('Douglas', 98.0),\n",
       " ('Oakland', 98.0),\n",
       " ('Fuller Park', 98.0),\n",
       " ('Grand Boulevard', 98.0),\n",
       " ('Kenwood', 98.0),\n",
       " ('Washington Park', 98.0),\n",
       " ('Hyde Park', 98.0),\n",
       " ('Woodlawn', 98.0),\n",
       " ('South Shore', 98.0),\n",
       " ('Chatham', 98.0),\n",
       " ('Avalon Park', 98.0),\n",
       " ('South Chicago', 98.0),\n",
       " ('Burnside', 98.0),\n",
       " ('Calumet Heights', 98.0),\n",
       " ('Roseland', 98.0),\n",
       " ('Pullman', 98.0),\n",
       " ('South Deering', 98.0),\n",
       " ('East Side', 98.0),\n",
       " ('West Pullman', 98.0),\n",
       " ('Riverdale', 98.0),\n",
       " ('Hegewisch', 98.0),\n",
       " ('Garfield Ridge', 98.0),\n",
       " ('Archer Heights', 98.0),\n",
       " ('Brighton Park', 98.0),\n",
       " ('McKinley Park', 98.0),\n",
       " ('Bridgeport', 98.0),\n",
       " ('New City', 98.0),\n",
       " ('West Elsdon', 98.0),\n",
       " ('Gage Park', 98.0),\n",
       " ('Clearing', 98.0),\n",
       " ('West Lawn', 98.0),\n",
       " ('Chicago Lawn', 98.0),\n",
       " ('West Englewood', 98.0),\n",
       " ('Englewood', 98.0),\n",
       " ('Greater Grand Crossing', 98.0),\n",
       " ('Ashburn', 98.0),\n",
       " ('Auburn Gresham', 98.0),\n",
       " ('Beverly', 98.0),\n",
       " ('Washington Height', 98.0),\n",
       " ('Mount Greenwood', 98.0),\n",
       " ('Morgan Park', 98.0),\n",
       " (\"O'Hare\", 98.0),\n",
       " ('Edgewater', 98.0),\n",
       " ('CHICAGO', 98.0)]"
      ]
     },
     "execution_count": 21,
     "metadata": {},
     "output_type": "execute_result"
    }
   ],
   "source": [
    "%%sql select COMMUNITY_AREA_NAME, (select HARDSHIP_INDEX FROM Chicago_Census_Data order by HARDSHIP_INDEX DESC) \n",
    "from Chicago_Census_Data "
   ]
  },
  {
   "cell_type": "markdown",
   "id": "f80f26bb-2eae-423b-b3c6-1e88f3ce2d55",
   "metadata": {},
   "source": [
    "### Problem 10\n",
    "\n",
    "##### Use a sub-query to determine the Community Area Name with most number of crimes?\n"
   ]
  },
  {
   "cell_type": "code",
   "execution_count": null,
   "id": "a5df5251-2101-435d-8d80-fbd897817d5d",
   "metadata": {},
   "outputs": [],
   "source": [
    "%%sql select COMMUNITY_AREA_NAME, (SELECT COMMUNITY_AREA_NUMBER from Chicago_Crime_Data GROUP BY COMMUNITY_AREA_NUMBER\n",
    "    ORDER BY COUNT(COMMUNITY_AREA_NUMBER) DESC\n",
    "    LIMIT 3) from Chicago_Census_Data limit 3"
   ]
  },
  {
   "cell_type": "markdown",
   "id": "9b0e4c8e-9822-447f-a42f-8666fc591f40",
   "metadata": {},
   "source": [
    "## Author(s)\n",
    "\n",
    "<h4> Hima Vasudevan </h4>\n",
    "<h4> Rav Ahuja </h4>\n",
    "<h4> Ramesh Sannreddy </h4>\n",
    "\n",
    "## Contribtuor(s)\n",
    "\n",
    "<h4> Malika Singla </h4>\n",
    "<h4>Abhishek Gagneja</h4>\n",
    "\n",
    "## Change log\n",
    "\n",
    "| Date       | Version | Changed by        | Change Description                             |\n",
    "| ---------- | ------- | ----------------- | ---------------------------------------------- |\n",
    "|2023-10-18  | 2.6     | Abhishek Gagneja  | Modified instruction set |\n",
    "| 2022-03-04 | 2.5     | Lakshmi Holla     | Changed markdown.                   |\n",
    "| 2021-05-19 | 2.4     | Lakshmi Holla     | Updated the question                           |\n",
    "| 2021-04-30 | 2.3     | Malika Singla     | Updated the libraries                          |\n",
    "| 2021-01-15 | 2.2     | Rav Ahuja         | Removed problem 11 and fixed changelog         |\n",
    "| 2020-11-25 | 2.1     | Ramesh Sannareddy | Updated the problem statements, and datasets   |\n",
    "| 2020-09-05 | 2.0     | Malika Singla     | Moved lab to course repo in GitLab             |\n",
    "| 2018-07-18 | 1.0     | Rav Ahuja         | Several updates including loading instructions |\n",
    "| 2018-05-04 | 0.1     | Hima Vasudevan    | Created initial version                        |\n",
    "\n",
    "## <h3 align=\"center\"> © IBM Corporation 2023. All rights reserved. <h3/>\n"
   ]
  }
 ],
 "metadata": {
  "kernelspec": {
   "display_name": "Python 3 (ipykernel)",
   "language": "python",
   "name": "python3"
  },
  "language_info": {
   "codemirror_mode": {
    "name": "ipython",
    "version": 3
   },
   "file_extension": ".py",
   "mimetype": "text/x-python",
   "name": "python",
   "nbconvert_exporter": "python",
   "pygments_lexer": "ipython3",
   "version": "3.11.3"
  }
 },
 "nbformat": 4,
 "nbformat_minor": 4
}
